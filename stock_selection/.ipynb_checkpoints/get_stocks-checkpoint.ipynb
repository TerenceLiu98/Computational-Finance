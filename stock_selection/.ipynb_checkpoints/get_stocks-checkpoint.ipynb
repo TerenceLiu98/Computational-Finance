{
 "cells": [
  {
   "cell_type": "markdown",
   "metadata": {},
   "source": [
    "1. 删掉 ST\n",
    "2. 删掉业绩亏损\n",
    "3. 删掉净资产为负\n",
    "4. 选取市盈率前 200 名\n",
    "5. 选取市净率 200 名\n",
    "6. MA-5 > MA - 21 且缺口变大 || MA-21 > MA-5 且缺口变小"
   ]
  },
  {
   "cell_type": "code",
   "execution_count": 6,
   "metadata": {},
   "outputs": [],
   "source": [
    "import tushare as ts\n",
    "import numpy as np\n",
    "import datetime\n",
    "\n",
    "\n",
    "## Set up the date\n",
    "today = '20' + datetime.date.today().strftime('%y%m%d')"
   ]
  },
  {
   "cell_type": "code",
   "execution_count": 7,
   "metadata": {},
   "outputs": [
    {
     "name": "stdout",
     "output_type": "stream",
     "text": [
      "[Getting data:]############################################################"
     ]
    }
   ],
   "source": [
    "index_all = ts.get_today_all()\n",
    "\n",
    "df1 = index_all.copy()  #建立一个备份\n",
    "n = 300  #选择前n个数据"
   ]
  },
  {
   "cell_type": "code",
   "execution_count": 8,
   "metadata": {},
   "outputs": [
    {
     "data": {
      "text/html": [
       "<div>\n",
       "<style scoped>\n",
       "    .dataframe tbody tr th:only-of-type {\n",
       "        vertical-align: middle;\n",
       "    }\n",
       "\n",
       "    .dataframe tbody tr th {\n",
       "        vertical-align: top;\n",
       "    }\n",
       "\n",
       "    .dataframe thead th {\n",
       "        text-align: right;\n",
       "    }\n",
       "</style>\n",
       "<table border=\"1\" class=\"dataframe\">\n",
       "  <thead>\n",
       "    <tr style=\"text-align: right;\">\n",
       "      <th></th>\n",
       "      <th>code</th>\n",
       "      <th>name</th>\n",
       "      <th>changepercent</th>\n",
       "      <th>trade</th>\n",
       "      <th>open</th>\n",
       "      <th>high</th>\n",
       "      <th>low</th>\n",
       "      <th>settlement</th>\n",
       "      <th>volume</th>\n",
       "      <th>turnoverratio</th>\n",
       "      <th>amount</th>\n",
       "      <th>per</th>\n",
       "      <th>pb</th>\n",
       "      <th>mktcap</th>\n",
       "      <th>nmc</th>\n",
       "    </tr>\n",
       "  </thead>\n",
       "  <tbody>\n",
       "    <tr>\n",
       "      <th>0</th>\n",
       "      <td>688399</td>\n",
       "      <td>硕世生物</td>\n",
       "      <td>-5.385</td>\n",
       "      <td>78.37</td>\n",
       "      <td>83.99</td>\n",
       "      <td>83.99</td>\n",
       "      <td>78.21</td>\n",
       "      <td>82.83</td>\n",
       "      <td>838079.0</td>\n",
       "      <td>6.28317</td>\n",
       "      <td>66839408.0</td>\n",
       "      <td>54.048</td>\n",
       "      <td>9.215</td>\n",
       "      <td>459404.94</td>\n",
       "      <td>104533.58939</td>\n",
       "    </tr>\n",
       "    <tr>\n",
       "      <th>1</th>\n",
       "      <td>688398</td>\n",
       "      <td>赛特新材</td>\n",
       "      <td>-2.993</td>\n",
       "      <td>56.72</td>\n",
       "      <td>58.00</td>\n",
       "      <td>58.42</td>\n",
       "      <td>56.63</td>\n",
       "      <td>58.47</td>\n",
       "      <td>576283.0</td>\n",
       "      <td>3.16619</td>\n",
       "      <td>33022279.0</td>\n",
       "      <td>78.778</td>\n",
       "      <td>10.981</td>\n",
       "      <td>453760.00</td>\n",
       "      <td>103236.86608</td>\n",
       "    </tr>\n",
       "  </tbody>\n",
       "</table>\n",
       "</div>"
      ],
      "text/plain": [
       "     code  name  changepercent  trade   open   high    low  settlement  \\\n",
       "0  688399  硕世生物         -5.385  78.37  83.99  83.99  78.21       82.83   \n",
       "1  688398  赛特新材         -2.993  56.72  58.00  58.42  56.63       58.47   \n",
       "\n",
       "     volume  turnoverratio      amount     per      pb     mktcap  \\\n",
       "0  838079.0        6.28317  66839408.0  54.048   9.215  459404.94   \n",
       "1  576283.0        3.16619  33022279.0  78.778  10.981  453760.00   \n",
       "\n",
       "            nmc  \n",
       "0  104533.58939  \n",
       "1  103236.86608  "
      ]
     },
     "execution_count": 8,
     "metadata": {},
     "output_type": "execute_result"
    }
   ],
   "source": [
    "df1.head(2)"
   ]
  },
  {
   "cell_type": "code",
   "execution_count": 3,
   "metadata": {},
   "outputs": [],
   "source": [
    "df1['a']=[('ST' in x )for x in df1.name.astype(str)]  #先给ST股票做标记a\n",
    "df1=df1.set_index('a')  #将a设置为索引 \n",
    "df1=df1.drop(index=[True]) #删除ST股票\n",
    "df1=df1.reset_index(drop=True) #重建默认索引"
   ]
  },
  {
   "cell_type": "code",
   "execution_count": 6,
   "metadata": {},
   "outputs": [
    {
     "name": "stdout",
     "output_type": "stream",
     "text": [
      "Basic Selection: ['300108', '000900', '600120', '000552', '000616', '000631', '600170', '600021', '601009', '600022', '601339', '601828', '600697', '000001', '000537', '002448', '000413', '601669', '002092', '600808', '601518', '601077', '000501', '600295', '002839', '600708', '000932', '600335', '600782', '603900', '600015', '600409', '600075', '603766', '601001', '601886', '600475', '600284', '600016', '600743', '601006', '601000', '600548', '601088', '600622', '600138', '000898', '600676', '000553', '600502', '600308', '000666', '000620', '601101', '600820', '600325', '002110', '000581', '600919', '600684', '600219', '002067', '601658', '002589', '600623', '600090', '600638', '002936', '600515', '601188', '000560', '002128', '000543', '600596', '000761', '600606', '600740', '000825', '600926', '600350', '000591', '601588', '600266', '600611', '600655', '600755', '601107', '600491', '600859', '002024', '600683', '601328', '600982', '601997', '603323', '601005', '600282', '601577', '601229', '601166', '601618', '000732', '000709', '600133', '300510', '600569', '600368', '002394', '600790', '600382', '002133', '600665', '600269', '600581', '002619', '002146', '600230', '601818', '000059', '600126', '600390', '601222', '601800', '600012', '600067', '600704', '601186', '600039', '600551', '601398', '002277', '600723', '002377', '601169', '601668', '002029', '000639', '002244', '600983', '000415', '600970', '000822', '600694', '600028', '002051', '600023', '600828', '600642', '002283', '601801', '600565', '000069', '600019', '002966', '600508', '000039', '600483', '600603', '001965', '600823', '601699', '600449', '002068', '600307', '000719', '600348', '600510', '600125', '300237', '601992', '000731', '600376', '600757', '600104', '000791', '002101', '000778', '601677', '002775', '600908', '600978', '600000', '000006', '600188', '002435', '600297', '600208', '000983', '601838', '000726', '600567', '600057', '601717', '601998', '600985', '000959', '600064', '000926', '002061', '600033', '600017', '600068', '600657', '601598', '600239', '000828', '300089', '600997', '601390', '600716', '000617', '600231', '000488', '600123', '002109', '000036', '603518', '600076', '002807', '600971', '600077', '002187', '000498', '000980', '600928', '000402', '002538', '002608', '600387', '600658', '601288', '600051', '000937', '000528', '000040', '601988', '000883', '600153', '601015', '601939', '600035', '000055', '000683'] Totally: 243\n"
     ]
    }
   ],
   "source": [
    "#删除业绩亏损的股票\n",
    "df1=df1[df1.per >0]\n",
    "\n",
    "#删除净资产为负的股票\n",
    "df1=df1[df1.pb >0]\n",
    "\n",
    "#选取市盈率前 200 名股票\n",
    "df2=df1.sort_values(by=['per'],ascending=True).head(500)\n",
    "#print(len(df2))\n",
    "#选取市净率 200 名股票\n",
    "df3=df1.sort_values(by=['pb'],ascending=True).head(500)\n",
    "#print(len(df3))\n",
    "#生成股票代码集合，进行集合运算\n",
    "g2=set(df2.code) #低市盈率股票代码\n",
    "#print(len(g2))\n",
    "g3=set(df3.code) #低市净率股票代码\n",
    "#print(len(g3))\n",
    "g=g2&g3 #集合交运算\n",
    "#print(len(g))\n",
    "zxg1=list(g)  #把集合转为列表\n",
    "print('Basic Selection:',zxg1, \"Totally:\", len(zxg1))"
   ]
  },
  {
   "cell_type": "code",
   "execution_count": 7,
   "metadata": {},
   "outputs": [
    {
     "name": "stderr",
     "output_type": "stream",
     "text": [
      "\n",
      "  0%|          | 0/243 [00:00<?, ?it/s]\u001b[A\n",
      "  0%|          | 1/243 [00:00<03:18,  1.22it/s]\u001b[A"
     ]
    },
    {
     "name": "stdout",
     "output_type": "stream",
     "text": [
      "This stock maybe a good choice 300108\n"
     ]
    },
    {
     "name": "stderr",
     "output_type": "stream",
     "text": [
      "\n",
      "  1%|          | 2/243 [00:01<03:16,  1.23it/s]\u001b[A\n",
      "  1%|          | 3/243 [00:02<03:16,  1.22it/s]\u001b[A\n",
      "  2%|▏         | 4/243 [00:03<03:15,  1.22it/s]\u001b[A\n",
      "  2%|▏         | 5/243 [00:04<03:12,  1.24it/s]\u001b[A"
     ]
    },
    {
     "name": "stdout",
     "output_type": "stream",
     "text": [
      "This stock maybe a good choice 000616\n"
     ]
    },
    {
     "name": "stderr",
     "output_type": "stream",
     "text": [
      "\n",
      "  2%|▏         | 6/243 [00:04<03:12,  1.23it/s]\u001b[A"
     ]
    },
    {
     "name": "stdout",
     "output_type": "stream",
     "text": [
      "This stock maybe a good choice 000631\n"
     ]
    },
    {
     "name": "stderr",
     "output_type": "stream",
     "text": [
      "\n",
      "  3%|▎         | 7/243 [00:05<03:12,  1.23it/s]\u001b[A\n",
      "  3%|▎         | 8/243 [00:06<03:11,  1.23it/s]\u001b[A\n",
      "  4%|▎         | 9/243 [00:07<03:10,  1.23it/s]\u001b[A\n",
      "  4%|▍         | 10/243 [00:08<03:09,  1.23it/s]\u001b[A\n",
      "  5%|▍         | 11/243 [00:08<03:09,  1.22it/s]\u001b[A"
     ]
    },
    {
     "name": "stdout",
     "output_type": "stream",
     "text": [
      "This stock maybe a good choice 601339\n"
     ]
    },
    {
     "name": "stderr",
     "output_type": "stream",
     "text": [
      "\n",
      "  5%|▍         | 12/243 [00:09<03:08,  1.23it/s]\u001b[A\n",
      "  5%|▌         | 13/243 [00:10<03:07,  1.23it/s]\u001b[A"
     ]
    },
    {
     "name": "stdout",
     "output_type": "stream",
     "text": [
      "This stock maybe a good choice 600697\n"
     ]
    },
    {
     "name": "stderr",
     "output_type": "stream",
     "text": [
      "\n",
      "  6%|▌         | 14/243 [00:11<03:07,  1.22it/s]\u001b[A\n",
      "  6%|▌         | 15/243 [00:12<03:06,  1.22it/s]\u001b[A"
     ]
    },
    {
     "name": "stdout",
     "output_type": "stream",
     "text": [
      "This stock maybe a good choice 000537\n"
     ]
    },
    {
     "name": "stderr",
     "output_type": "stream",
     "text": [
      "\n",
      "  7%|▋         | 16/243 [00:13<03:06,  1.21it/s]\u001b[A\n",
      "  7%|▋         | 17/243 [00:13<03:06,  1.21it/s]\u001b[A"
     ]
    },
    {
     "name": "stdout",
     "output_type": "stream",
     "text": [
      "This stock maybe a good choice 000413\n"
     ]
    },
    {
     "name": "stderr",
     "output_type": "stream",
     "text": [
      "\n",
      "  7%|▋         | 18/243 [00:14<03:03,  1.22it/s]\u001b[A\n",
      "  8%|▊         | 19/243 [00:15<03:04,  1.22it/s]\u001b[A\n",
      "  8%|▊         | 20/243 [00:16<03:02,  1.22it/s]\u001b[A\n",
      "  9%|▊         | 21/243 [00:17<03:01,  1.22it/s]\u001b[A"
     ]
    },
    {
     "name": "stdout",
     "output_type": "stream",
     "text": [
      "This stock maybe a good choice 601518\n"
     ]
    },
    {
     "name": "stderr",
     "output_type": "stream",
     "text": [
      "\n",
      "  9%|▉         | 22/243 [00:17<02:36,  1.41it/s]\u001b[A\n",
      "  9%|▉         | 23/243 [00:18<02:45,  1.33it/s]\u001b[A"
     ]
    },
    {
     "name": "stdout",
     "output_type": "stream",
     "text": [
      "This stock maybe a good choice 000501\n"
     ]
    },
    {
     "name": "stderr",
     "output_type": "stream",
     "text": [
      "\n",
      " 10%|▉         | 24/243 [00:19<02:49,  1.29it/s]\u001b[A\n",
      " 10%|█         | 25/243 [00:20<02:52,  1.26it/s]\u001b[A"
     ]
    },
    {
     "name": "stdout",
     "output_type": "stream",
     "text": [
      "This stock maybe a good choice 002839\n"
     ]
    },
    {
     "name": "stderr",
     "output_type": "stream",
     "text": [
      "\n",
      " 11%|█         | 26/243 [00:21<02:59,  1.21it/s]\u001b[A\n",
      " 11%|█         | 27/243 [00:21<02:59,  1.20it/s]\u001b[A\n",
      " 12%|█▏        | 28/243 [00:22<02:56,  1.22it/s]\u001b[A\n",
      " 12%|█▏        | 29/243 [00:23<02:56,  1.21it/s]\u001b[A\n",
      " 12%|█▏        | 30/243 [00:24<02:54,  1.22it/s]\u001b[A\n",
      " 13%|█▎        | 31/243 [00:25<02:55,  1.21it/s]\u001b[A\n",
      " 13%|█▎        | 32/243 [00:26<02:56,  1.20it/s]\u001b[A\n",
      " 14%|█▎        | 33/243 [00:26<02:56,  1.19it/s]\u001b[A\n",
      " 14%|█▍        | 34/243 [00:27<02:54,  1.20it/s]\u001b[A\n",
      " 14%|█▍        | 35/243 [00:28<02:54,  1.19it/s]\u001b[A\n",
      " 15%|█▍        | 36/243 [00:30<03:51,  1.12s/it]\u001b[A\n",
      " 15%|█▌        | 37/243 [00:31<03:31,  1.03s/it]\u001b[A"
     ]
    },
    {
     "name": "stdout",
     "output_type": "stream",
     "text": [
      "This stock maybe a good choice 600475\n"
     ]
    },
    {
     "name": "stderr",
     "output_type": "stream",
     "text": [
      "\n",
      " 16%|█▌        | 38/243 [00:31<03:17,  1.04it/s]\u001b[A\n",
      " 16%|█▌        | 39/243 [00:32<03:08,  1.08it/s]\u001b[A"
     ]
    },
    {
     "name": "stdout",
     "output_type": "stream",
     "text": [
      "This stock maybe a good choice 600016\n"
     ]
    },
    {
     "name": "stderr",
     "output_type": "stream",
     "text": [
      "\n",
      " 16%|█▋        | 40/243 [00:33<03:02,  1.11it/s]\u001b[A"
     ]
    },
    {
     "name": "stdout",
     "output_type": "stream",
     "text": [
      "This stock maybe a good choice 600743\n"
     ]
    },
    {
     "name": "stderr",
     "output_type": "stream",
     "text": [
      "\n",
      " 17%|█▋        | 41/243 [00:34<02:57,  1.14it/s]\u001b[A\n",
      " 17%|█▋        | 42/243 [00:35<02:54,  1.15it/s]\u001b[A\n",
      " 18%|█▊        | 43/243 [00:36<02:53,  1.15it/s]\u001b[A"
     ]
    },
    {
     "name": "stdout",
     "output_type": "stream",
     "text": [
      "This stock maybe a good choice 600548\n"
     ]
    },
    {
     "name": "stderr",
     "output_type": "stream",
     "text": [
      "\n",
      " 18%|█▊        | 44/243 [00:36<02:50,  1.17it/s]\u001b[A\n",
      " 19%|█▊        | 45/243 [00:37<02:47,  1.19it/s]\u001b[A\n",
      " 19%|█▉        | 46/243 [00:38<02:45,  1.19it/s]\u001b[A"
     ]
    },
    {
     "name": "stdout",
     "output_type": "stream",
     "text": [
      "This stock maybe a good choice 600138\n"
     ]
    },
    {
     "name": "stderr",
     "output_type": "stream",
     "text": [
      "\n",
      " 19%|█▉        | 47/243 [00:39<02:43,  1.20it/s]\u001b[A\n",
      " 20%|█▉        | 48/243 [00:40<02:41,  1.21it/s]\u001b[A"
     ]
    },
    {
     "name": "stdout",
     "output_type": "stream",
     "text": [
      "This stock maybe a good choice 600676\n"
     ]
    },
    {
     "name": "stderr",
     "output_type": "stream",
     "text": [
      "\n",
      " 20%|██        | 49/243 [00:41<02:43,  1.19it/s]\u001b[A\n",
      " 21%|██        | 50/243 [00:42<02:44,  1.17it/s]\u001b[A\n",
      " 21%|██        | 51/243 [00:42<02:42,  1.18it/s]\u001b[A"
     ]
    },
    {
     "name": "stdout",
     "output_type": "stream",
     "text": [
      "This stock maybe a good choice 600308\n"
     ]
    },
    {
     "name": "stderr",
     "output_type": "stream",
     "text": [
      "\n",
      " 21%|██▏       | 52/243 [00:43<02:40,  1.19it/s]\u001b[A\n",
      " 22%|██▏       | 53/243 [00:44<02:40,  1.19it/s]\u001b[A\n",
      " 22%|██▏       | 54/243 [00:45<02:37,  1.20it/s]\u001b[A"
     ]
    },
    {
     "name": "stdout",
     "output_type": "stream",
     "text": [
      "This stock maybe a good choice 601101\n"
     ]
    },
    {
     "name": "stderr",
     "output_type": "stream",
     "text": [
      "\n",
      " 23%|██▎       | 55/243 [00:46<02:36,  1.20it/s]\u001b[A\n",
      " 23%|██▎       | 56/243 [00:46<02:35,  1.20it/s]\u001b[A\n",
      " 23%|██▎       | 57/243 [00:47<02:33,  1.22it/s]\u001b[A\n",
      " 24%|██▍       | 58/243 [00:48<02:33,  1.21it/s]\u001b[A\n",
      " 24%|██▍       | 59/243 [00:49<02:32,  1.20it/s]\u001b[A\n",
      " 25%|██▍       | 60/243 [00:50<02:31,  1.21it/s]\u001b[A\n",
      " 25%|██▌       | 61/243 [00:51<02:30,  1.21it/s]\u001b[A\n",
      " 26%|██▌       | 62/243 [00:51<02:30,  1.20it/s]\u001b[A"
     ]
    },
    {
     "name": "stdout",
     "output_type": "stream",
     "text": [
      "This stock maybe a good choice 002067\n"
     ]
    },
    {
     "name": "stderr",
     "output_type": "stream",
     "text": [
      "\n",
      " 26%|██▌       | 63/243 [00:52<02:09,  1.39it/s]\u001b[A\n",
      " 26%|██▋       | 64/243 [00:53<02:14,  1.33it/s]\u001b[A"
     ]
    },
    {
     "name": "stdout",
     "output_type": "stream",
     "text": [
      "This stock maybe a good choice 002589\n"
     ]
    },
    {
     "name": "stderr",
     "output_type": "stream",
     "text": [
      "\n",
      " 27%|██▋       | 65/243 [00:54<02:19,  1.28it/s]\u001b[A"
     ]
    },
    {
     "name": "stdout",
     "output_type": "stream",
     "text": [
      "This stock maybe a good choice 600623\n"
     ]
    },
    {
     "name": "stderr",
     "output_type": "stream",
     "text": [
      "\n",
      " 27%|██▋       | 66/243 [00:54<02:19,  1.26it/s]\u001b[A"
     ]
    },
    {
     "name": "stdout",
     "output_type": "stream",
     "text": [
      "This stock maybe a good choice 600090\n"
     ]
    },
    {
     "name": "stderr",
     "output_type": "stream",
     "text": [
      "\n",
      " 28%|██▊       | 67/243 [00:55<02:23,  1.23it/s]\u001b[A\n",
      " 28%|██▊       | 68/243 [00:56<02:21,  1.24it/s]\u001b[A\n",
      " 28%|██▊       | 69/243 [00:57<02:19,  1.25it/s]\u001b[A\n",
      " 29%|██▉       | 70/243 [00:58<02:20,  1.23it/s]\u001b[A"
     ]
    },
    {
     "name": "stdout",
     "output_type": "stream",
     "text": [
      "This stock maybe a good choice 601188\n"
     ]
    },
    {
     "name": "stderr",
     "output_type": "stream",
     "text": [
      "\n",
      " 29%|██▉       | 71/243 [00:59<02:20,  1.23it/s]\u001b[A\n",
      " 30%|██▉       | 72/243 [00:59<02:20,  1.22it/s]\u001b[A\n",
      " 30%|███       | 73/243 [01:00<02:24,  1.18it/s]\u001b[A\n",
      " 30%|███       | 74/243 [01:01<02:22,  1.18it/s]\u001b[A\n",
      " 31%|███       | 75/243 [01:02<02:21,  1.19it/s]\u001b[A"
     ]
    },
    {
     "name": "stdout",
     "output_type": "stream",
     "text": [
      "Remote end closed connection without response\n"
     ]
    },
    {
     "name": "stderr",
     "output_type": "stream",
     "text": [
      "\n",
      " 31%|███▏      | 76/243 [01:08<06:31,  2.34s/it]\u001b[A\n",
      " 32%|███▏      | 77/243 [01:09<05:16,  1.91s/it]\u001b[A\n",
      " 32%|███▏      | 78/243 [01:09<04:20,  1.58s/it]\u001b[A\n",
      " 33%|███▎      | 79/243 [01:10<03:41,  1.35s/it]\u001b[A\n",
      " 33%|███▎      | 80/243 [01:11<03:16,  1.21s/it]\u001b[A"
     ]
    },
    {
     "name": "stdout",
     "output_type": "stream",
     "text": [
      "This stock maybe a good choice 600350\n"
     ]
    },
    {
     "name": "stderr",
     "output_type": "stream",
     "text": [
      "\n",
      " 33%|███▎      | 81/243 [01:12<02:57,  1.10s/it]\u001b[A\n",
      " 34%|███▎      | 82/243 [01:13<02:44,  1.02s/it]\u001b[A\n",
      " 34%|███▍      | 83/243 [01:14<02:34,  1.04it/s]\u001b[A\n",
      " 35%|███▍      | 84/243 [01:15<02:26,  1.08it/s]\u001b[A"
     ]
    },
    {
     "name": "stdout",
     "output_type": "stream",
     "text": [
      "This stock maybe a good choice 600611\n"
     ]
    },
    {
     "name": "stderr",
     "output_type": "stream",
     "text": [
      "\n",
      " 35%|███▍      | 85/243 [01:15<02:20,  1.12it/s]\u001b[A"
     ]
    },
    {
     "name": "stdout",
     "output_type": "stream",
     "text": [
      "This stock maybe a good choice 600655\n"
     ]
    },
    {
     "name": "stderr",
     "output_type": "stream",
     "text": [
      "\n",
      " 35%|███▌      | 86/243 [01:16<02:17,  1.14it/s]\u001b[A"
     ]
    },
    {
     "name": "stdout",
     "output_type": "stream",
     "text": [
      "This stock maybe a good choice 600755\n"
     ]
    },
    {
     "name": "stderr",
     "output_type": "stream",
     "text": [
      "\n",
      " 36%|███▌      | 87/243 [01:17<02:13,  1.17it/s]\u001b[A\n",
      " 36%|███▌      | 88/243 [01:18<02:11,  1.18it/s]\u001b[A\n",
      " 37%|███▋      | 89/243 [01:19<02:11,  1.17it/s]\u001b[A"
     ]
    },
    {
     "name": "stdout",
     "output_type": "stream",
     "text": [
      "This stock maybe a good choice 600859\n"
     ]
    },
    {
     "name": "stderr",
     "output_type": "stream",
     "text": [
      "\n",
      " 37%|███▋      | 90/243 [01:20<02:10,  1.17it/s]\u001b[A"
     ]
    },
    {
     "name": "stdout",
     "output_type": "stream",
     "text": [
      "This stock maybe a good choice 002024\n"
     ]
    },
    {
     "name": "stderr",
     "output_type": "stream",
     "text": [
      "\n",
      " 37%|███▋      | 91/243 [01:20<02:08,  1.18it/s]\u001b[A"
     ]
    },
    {
     "name": "stdout",
     "output_type": "stream",
     "text": [
      "This stock maybe a good choice 600683\n"
     ]
    },
    {
     "name": "stderr",
     "output_type": "stream",
     "text": [
      "\n",
      " 38%|███▊      | 92/243 [01:21<02:07,  1.18it/s]\u001b[A\n",
      " 38%|███▊      | 93/243 [01:22<02:07,  1.18it/s]\u001b[A"
     ]
    },
    {
     "name": "stdout",
     "output_type": "stream",
     "text": [
      "This stock maybe a good choice 600982\n"
     ]
    },
    {
     "name": "stderr",
     "output_type": "stream",
     "text": [
      "\n",
      " 39%|███▊      | 94/243 [01:23<02:05,  1.19it/s]\u001b[A\n",
      " 39%|███▉      | 95/243 [01:24<02:05,  1.18it/s]\u001b[A\n",
      " 40%|███▉      | 96/243 [01:25<02:02,  1.20it/s]\u001b[A\n",
      " 40%|███▉      | 97/243 [01:25<02:00,  1.21it/s]\u001b[A\n",
      " 40%|████      | 98/243 [01:26<01:59,  1.21it/s]\u001b[A\n",
      " 41%|████      | 99/243 [01:27<01:58,  1.22it/s]\u001b[A\n",
      " 41%|████      | 100/243 [01:28<01:59,  1.19it/s]\u001b[A\n",
      " 42%|████▏     | 101/243 [01:29<01:58,  1.20it/s]\u001b[A\n",
      " 42%|████▏     | 102/243 [01:29<01:57,  1.20it/s]\u001b[A"
     ]
    },
    {
     "name": "stdout",
     "output_type": "stream",
     "text": [
      "This stock maybe a good choice 000732\n"
     ]
    },
    {
     "name": "stderr",
     "output_type": "stream",
     "text": [
      "\n",
      " 42%|████▏     | 103/243 [01:30<01:56,  1.20it/s]\u001b[A\n",
      " 43%|████▎     | 104/243 [01:31<01:55,  1.20it/s]\u001b[A"
     ]
    },
    {
     "name": "stdout",
     "output_type": "stream",
     "text": [
      "This stock maybe a good choice 600133\n"
     ]
    },
    {
     "name": "stderr",
     "output_type": "stream",
     "text": [
      "\n",
      " 43%|████▎     | 105/243 [01:32<01:53,  1.21it/s]\u001b[A\n",
      " 44%|████▎     | 106/243 [01:33<01:53,  1.21it/s]\u001b[A\n",
      " 44%|████▍     | 107/243 [01:34<01:52,  1.21it/s]\u001b[A\n",
      " 44%|████▍     | 108/243 [01:35<01:54,  1.18it/s]\u001b[A"
     ]
    },
    {
     "name": "stdout",
     "output_type": "stream",
     "text": [
      "This stock maybe a good choice 002394\n"
     ]
    },
    {
     "name": "stderr",
     "output_type": "stream",
     "text": [
      "\n",
      " 45%|████▍     | 109/243 [01:35<01:54,  1.17it/s]\u001b[A\n",
      " 45%|████▌     | 110/243 [01:36<01:52,  1.18it/s]\u001b[A\n",
      " 46%|████▌     | 111/243 [01:37<01:51,  1.19it/s]\u001b[A"
     ]
    },
    {
     "name": "stdout",
     "output_type": "stream",
     "text": [
      "This stock maybe a good choice 002133\n"
     ]
    },
    {
     "name": "stderr",
     "output_type": "stream",
     "text": [
      "\n",
      " 46%|████▌     | 112/243 [01:38<01:50,  1.18it/s]\u001b[A\n",
      " 47%|████▋     | 113/243 [01:39<01:48,  1.20it/s]\u001b[A\n",
      " 47%|████▋     | 114/243 [01:40<01:47,  1.20it/s]\u001b[A\n",
      " 47%|████▋     | 115/243 [01:40<01:46,  1.20it/s]\u001b[A\n",
      " 48%|████▊     | 116/243 [01:41<01:46,  1.19it/s]\u001b[A\n",
      " 48%|████▊     | 117/243 [01:42<01:44,  1.20it/s]\u001b[A"
     ]
    },
    {
     "name": "stdout",
     "output_type": "stream",
     "text": [
      "This stock maybe a good choice 600230\n"
     ]
    },
    {
     "name": "stderr",
     "output_type": "stream",
     "text": [
      "\n",
      " 49%|████▊     | 118/243 [01:43<01:44,  1.20it/s]\u001b[A\n",
      " 49%|████▉     | 119/243 [01:44<01:43,  1.20it/s]\u001b[A"
     ]
    },
    {
     "name": "stdout",
     "output_type": "stream",
     "text": [
      "This stock maybe a good choice 000059\n"
     ]
    },
    {
     "name": "stderr",
     "output_type": "stream",
     "text": [
      "\n",
      " 49%|████▉     | 120/243 [01:45<01:42,  1.20it/s]\u001b[A\n",
      " 50%|████▉     | 121/243 [01:45<01:41,  1.20it/s]\u001b[A\n",
      " 50%|█████     | 122/243 [01:46<01:41,  1.19it/s]\u001b[A"
     ]
    },
    {
     "name": "stdout",
     "output_type": "stream",
     "text": [
      "This stock maybe a good choice 601222\n"
     ]
    },
    {
     "name": "stderr",
     "output_type": "stream",
     "text": [
      "\n",
      " 51%|█████     | 123/243 [01:47<01:41,  1.18it/s]\u001b[A\n",
      " 51%|█████     | 124/243 [01:48<01:40,  1.19it/s]\u001b[A"
     ]
    },
    {
     "name": "stdout",
     "output_type": "stream",
     "text": [
      "This stock maybe a good choice 600012\n"
     ]
    },
    {
     "name": "stderr",
     "output_type": "stream",
     "text": [
      "\n",
      " 51%|█████▏    | 125/243 [01:49<01:39,  1.19it/s]\u001b[A\n",
      " 52%|█████▏    | 126/243 [01:50<01:37,  1.20it/s]\u001b[A\n",
      " 52%|█████▏    | 127/243 [01:50<01:37,  1.19it/s]\u001b[A\n",
      " 53%|█████▎    | 128/243 [01:51<01:35,  1.20it/s]\u001b[A\n",
      " 53%|█████▎    | 129/243 [01:52<01:34,  1.20it/s]\u001b[A"
     ]
    },
    {
     "name": "stdout",
     "output_type": "stream",
     "text": [
      "This stock maybe a good choice 600551\n"
     ]
    },
    {
     "name": "stderr",
     "output_type": "stream",
     "text": [
      "\n",
      " 53%|█████▎    | 130/243 [01:53<01:37,  1.16it/s]\u001b[A\n",
      " 54%|█████▍    | 131/243 [01:54<01:35,  1.18it/s]\u001b[A"
     ]
    },
    {
     "name": "stdout",
     "output_type": "stream",
     "text": [
      "This stock maybe a good choice 002277\n"
     ]
    },
    {
     "name": "stderr",
     "output_type": "stream",
     "text": [
      "\n",
      " 54%|█████▍    | 132/243 [01:55<01:34,  1.17it/s]\u001b[A\n",
      " 55%|█████▍    | 133/243 [01:56<01:33,  1.18it/s]\u001b[A\n",
      " 55%|█████▌    | 134/243 [01:56<01:32,  1.18it/s]\u001b[A\n",
      " 56%|█████▌    | 135/243 [01:57<01:30,  1.19it/s]\u001b[A\n",
      " 56%|█████▌    | 136/243 [01:58<01:29,  1.20it/s]\u001b[A"
     ]
    },
    {
     "name": "stdout",
     "output_type": "stream",
     "text": [
      "This stock maybe a good choice 002029\n"
     ]
    },
    {
     "name": "stderr",
     "output_type": "stream",
     "text": [
      "\n",
      " 56%|█████▋    | 137/243 [01:59<01:27,  1.21it/s]\u001b[A\n",
      " 57%|█████▋    | 138/243 [02:00<01:27,  1.20it/s]\u001b[A\n",
      " 57%|█████▋    | 139/243 [02:01<01:26,  1.20it/s]\u001b[A\n",
      " 58%|█████▊    | 140/243 [02:01<01:25,  1.21it/s]\u001b[A\n",
      " 58%|█████▊    | 141/243 [02:02<01:24,  1.21it/s]\u001b[A\n",
      " 58%|█████▊    | 142/243 [02:03<01:23,  1.21it/s]\u001b[A"
     ]
    },
    {
     "name": "stdout",
     "output_type": "stream",
     "text": [
      "This stock maybe a good choice 000822\n"
     ]
    },
    {
     "name": "stderr",
     "output_type": "stream",
     "text": [
      "\n",
      " 59%|█████▉    | 143/243 [02:04<01:22,  1.21it/s]\u001b[A\n",
      " 59%|█████▉    | 144/243 [02:05<01:22,  1.19it/s]\u001b[A"
     ]
    },
    {
     "name": "stdout",
     "output_type": "stream",
     "text": [
      "This stock maybe a good choice 600028\n"
     ]
    },
    {
     "name": "stderr",
     "output_type": "stream",
     "text": [
      "\n",
      " 60%|█████▉    | 145/243 [02:06<01:23,  1.18it/s]\u001b[A\n",
      " 60%|██████    | 146/243 [02:06<01:21,  1.19it/s]\u001b[A\n",
      " 60%|██████    | 147/243 [02:07<01:20,  1.20it/s]\u001b[A\n",
      " 61%|██████    | 148/243 [02:08<01:19,  1.19it/s]\u001b[A\n",
      " 61%|██████▏   | 149/243 [02:09<01:18,  1.19it/s]\u001b[A"
     ]
    },
    {
     "name": "stdout",
     "output_type": "stream",
     "text": [
      "This stock maybe a good choice 002283\n"
     ]
    },
    {
     "name": "stderr",
     "output_type": "stream",
     "text": [
      "\n",
      " 62%|██████▏   | 150/243 [02:10<01:19,  1.16it/s]\u001b[A"
     ]
    },
    {
     "name": "stdout",
     "output_type": "stream",
     "text": [
      "This stock maybe a good choice 601801\n"
     ]
    },
    {
     "name": "stderr",
     "output_type": "stream",
     "text": [
      "\n",
      " 62%|██████▏   | 151/243 [02:11<01:18,  1.17it/s]\u001b[A"
     ]
    },
    {
     "name": "stdout",
     "output_type": "stream",
     "text": [
      "This stock maybe a good choice 600565\n"
     ]
    },
    {
     "name": "stderr",
     "output_type": "stream",
     "text": [
      "\n",
      " 63%|██████▎   | 152/243 [02:11<01:16,  1.19it/s]\u001b[A\n",
      " 63%|██████▎   | 153/243 [02:12<01:15,  1.20it/s]\u001b[A\n",
      " 63%|██████▎   | 154/243 [02:13<01:08,  1.30it/s]\u001b[A\n",
      " 64%|██████▍   | 155/243 [02:14<01:09,  1.27it/s]\u001b[A\n",
      " 64%|██████▍   | 156/243 [02:15<01:10,  1.24it/s]\u001b[A\n",
      " 65%|██████▍   | 157/243 [02:15<01:09,  1.23it/s]\u001b[A"
     ]
    },
    {
     "name": "stdout",
     "output_type": "stream",
     "text": [
      "This stock maybe a good choice 600483\n"
     ]
    },
    {
     "name": "stderr",
     "output_type": "stream",
     "text": [
      "\n",
      " 65%|██████▌   | 158/243 [02:16<01:10,  1.21it/s]\u001b[A"
     ]
    },
    {
     "name": "stdout",
     "output_type": "stream",
     "text": [
      "This stock maybe a good choice 600603\n"
     ]
    },
    {
     "name": "stderr",
     "output_type": "stream",
     "text": [
      "\n",
      " 65%|██████▌   | 159/243 [02:17<01:10,  1.20it/s]\u001b[A\n",
      " 66%|██████▌   | 160/243 [02:18<01:09,  1.19it/s]\u001b[A\n",
      " 66%|██████▋   | 161/243 [02:19<01:08,  1.20it/s]\u001b[A\n",
      " 67%|██████▋   | 162/243 [02:20<01:07,  1.19it/s]\u001b[A\n",
      " 67%|██████▋   | 163/243 [02:20<01:06,  1.20it/s]\u001b[A"
     ]
    },
    {
     "name": "stdout",
     "output_type": "stream",
     "text": [
      "This stock maybe a good choice 002068\n"
     ]
    },
    {
     "name": "stderr",
     "output_type": "stream",
     "text": [
      "\n",
      " 67%|██████▋   | 164/243 [02:21<01:05,  1.20it/s]\u001b[A\n",
      " 68%|██████▊   | 165/243 [02:22<01:04,  1.21it/s]\u001b[A\n",
      " 68%|██████▊   | 166/243 [02:23<01:03,  1.21it/s]\u001b[A\n",
      " 69%|██████▊   | 167/243 [02:24<01:02,  1.21it/s]\u001b[A\n",
      " 69%|██████▉   | 168/243 [02:25<01:02,  1.20it/s]\u001b[A"
     ]
    },
    {
     "name": "stdout",
     "output_type": "stream",
     "text": [
      "This stock maybe a good choice 600125\n"
     ]
    },
    {
     "name": "stderr",
     "output_type": "stream",
     "text": [
      "\n",
      " 70%|██████▉   | 169/243 [02:25<01:01,  1.21it/s]\u001b[A\n",
      " 70%|██████▉   | 170/243 [02:26<01:00,  1.21it/s]\u001b[A\n",
      " 70%|███████   | 171/243 [02:27<00:59,  1.22it/s]\u001b[A\n",
      " 71%|███████   | 172/243 [02:28<00:58,  1.20it/s]\u001b[A"
     ]
    },
    {
     "name": "stdout",
     "output_type": "stream",
     "text": [
      "This stock maybe a good choice 600376\n"
     ]
    },
    {
     "name": "stderr",
     "output_type": "stream",
     "text": [
      "\n",
      " 71%|███████   | 173/243 [02:29<00:57,  1.21it/s]\u001b[A"
     ]
    },
    {
     "name": "stdout",
     "output_type": "stream",
     "text": [
      "This stock maybe a good choice 600757\n"
     ]
    },
    {
     "name": "stderr",
     "output_type": "stream",
     "text": [
      "\n",
      " 72%|███████▏  | 174/243 [02:30<00:58,  1.18it/s]\u001b[A\n",
      " 72%|███████▏  | 175/243 [02:30<00:57,  1.19it/s]\u001b[A\n",
      " 72%|███████▏  | 176/243 [02:31<00:56,  1.19it/s]\u001b[A\n",
      " 73%|███████▎  | 177/243 [02:32<00:55,  1.19it/s]\u001b[A\n",
      " 73%|███████▎  | 178/243 [02:33<00:54,  1.20it/s]\u001b[A\n",
      " 74%|███████▎  | 179/243 [02:34<00:53,  1.20it/s]\u001b[A"
     ]
    },
    {
     "name": "stdout",
     "output_type": "stream",
     "text": [
      "This stock maybe a good choice 002775\n"
     ]
    },
    {
     "name": "stderr",
     "output_type": "stream",
     "text": [
      "\n",
      " 74%|███████▍  | 180/243 [02:35<00:52,  1.21it/s]\u001b[A\n",
      " 74%|███████▍  | 181/243 [02:35<00:51,  1.21it/s]\u001b[A"
     ]
    },
    {
     "name": "stdout",
     "output_type": "stream",
     "text": [
      "This stock maybe a good choice 600978\n"
     ]
    },
    {
     "name": "stderr",
     "output_type": "stream",
     "text": [
      "\n",
      " 75%|███████▍  | 182/243 [02:36<00:50,  1.21it/s]\u001b[A\n",
      " 75%|███████▌  | 183/243 [02:37<00:49,  1.22it/s]\u001b[A\n",
      " 76%|███████▌  | 184/243 [02:38<00:48,  1.22it/s]\u001b[A\n",
      " 76%|███████▌  | 185/243 [02:39<00:47,  1.21it/s]\u001b[A"
     ]
    },
    {
     "name": "stdout",
     "output_type": "stream",
     "text": [
      "This stock maybe a good choice 002435\n"
     ]
    },
    {
     "name": "stderr",
     "output_type": "stream",
     "text": [
      "\n",
      " 77%|███████▋  | 186/243 [02:40<00:47,  1.20it/s]\u001b[A\n",
      " 77%|███████▋  | 187/243 [02:40<00:46,  1.20it/s]\u001b[A"
     ]
    },
    {
     "name": "stdout",
     "output_type": "stream",
     "text": [
      "This stock maybe a good choice 600208\n"
     ]
    },
    {
     "name": "stderr",
     "output_type": "stream",
     "text": [
      "\n",
      " 77%|███████▋  | 188/243 [02:41<00:46,  1.18it/s]\u001b[A\n",
      " 78%|███████▊  | 189/243 [02:42<00:44,  1.21it/s]\u001b[A\n",
      " 78%|███████▊  | 190/243 [02:43<00:43,  1.21it/s]\u001b[A\n",
      " 79%|███████▊  | 191/243 [02:44<00:43,  1.20it/s]\u001b[A\n",
      " 79%|███████▉  | 192/243 [02:45<00:42,  1.20it/s]\u001b[A"
     ]
    },
    {
     "name": "stdout",
     "output_type": "stream",
     "text": [
      "This stock maybe a good choice 600057\n"
     ]
    },
    {
     "name": "stderr",
     "output_type": "stream",
     "text": [
      "\n",
      " 79%|███████▉  | 193/243 [02:45<00:41,  1.20it/s]\u001b[A"
     ]
    },
    {
     "name": "stdout",
     "output_type": "stream",
     "text": [
      "This stock maybe a good choice 601717\n"
     ]
    },
    {
     "name": "stderr",
     "output_type": "stream",
     "text": [
      "\n",
      " 80%|███████▉  | 194/243 [02:46<00:41,  1.19it/s]\u001b[A\n",
      " 80%|████████  | 195/243 [02:47<00:40,  1.18it/s]\u001b[A\n",
      " 81%|████████  | 196/243 [02:48<00:40,  1.16it/s]\u001b[A\n",
      " 81%|████████  | 197/243 [02:49<00:40,  1.14it/s]\u001b[A"
     ]
    },
    {
     "name": "stdout",
     "output_type": "stream",
     "text": [
      "This stock maybe a good choice 600064\n"
     ]
    },
    {
     "name": "stderr",
     "output_type": "stream",
     "text": [
      "\n",
      " 81%|████████▏ | 198/243 [02:50<00:38,  1.16it/s]\u001b[A"
     ]
    },
    {
     "name": "stdout",
     "output_type": "stream",
     "text": [
      "This stock maybe a good choice 000926\n"
     ]
    },
    {
     "name": "stderr",
     "output_type": "stream",
     "text": [
      "\n",
      " 82%|████████▏ | 199/243 [02:51<00:37,  1.17it/s]\u001b[A\n",
      " 82%|████████▏ | 200/243 [02:51<00:36,  1.18it/s]\u001b[A\n",
      " 83%|████████▎ | 201/243 [02:52<00:35,  1.18it/s]\u001b[A"
     ]
    },
    {
     "name": "stdout",
     "output_type": "stream",
     "text": [
      "This stock maybe a good choice 600017\n"
     ]
    },
    {
     "name": "stderr",
     "output_type": "stream",
     "text": [
      "\n",
      " 83%|████████▎ | 202/243 [02:53<00:35,  1.15it/s]\u001b[A\n",
      " 84%|████████▎ | 203/243 [02:54<00:34,  1.15it/s]\u001b[A"
     ]
    },
    {
     "name": "stdout",
     "output_type": "stream",
     "text": [
      "This stock maybe a good choice 600657\n"
     ]
    },
    {
     "name": "stderr",
     "output_type": "stream",
     "text": [
      "\n",
      " 84%|████████▍ | 204/243 [02:55<00:30,  1.26it/s]\u001b[A"
     ]
    },
    {
     "name": "stdout",
     "output_type": "stream",
     "text": [
      "This stock maybe a good choice 601598\n"
     ]
    },
    {
     "name": "stderr",
     "output_type": "stream",
     "text": [
      "\n",
      " 84%|████████▍ | 205/243 [02:55<00:30,  1.26it/s]\u001b[A\n",
      " 85%|████████▍ | 206/243 [02:56<00:29,  1.25it/s]\u001b[A"
     ]
    },
    {
     "name": "stdout",
     "output_type": "stream",
     "text": [
      "This stock maybe a good choice 000828\n"
     ]
    },
    {
     "name": "stderr",
     "output_type": "stream",
     "text": [
      "\n",
      " 85%|████████▌ | 207/243 [02:57<00:29,  1.23it/s]\u001b[A"
     ]
    },
    {
     "name": "stdout",
     "output_type": "stream",
     "text": [
      "This stock maybe a good choice 300089\n"
     ]
    },
    {
     "name": "stderr",
     "output_type": "stream",
     "text": [
      "\n",
      " 86%|████████▌ | 208/243 [02:58<00:28,  1.22it/s]\u001b[A\n",
      " 86%|████████▌ | 209/243 [02:59<00:27,  1.22it/s]\u001b[A\n",
      " 86%|████████▋ | 210/243 [03:00<00:27,  1.22it/s]\u001b[A"
     ]
    },
    {
     "name": "stdout",
     "output_type": "stream",
     "text": [
      "This stock maybe a good choice 600716\n"
     ]
    },
    {
     "name": "stderr",
     "output_type": "stream",
     "text": [
      "\n",
      " 87%|████████▋ | 211/243 [03:00<00:26,  1.21it/s]\u001b[A\n",
      " 87%|████████▋ | 212/243 [03:01<00:26,  1.19it/s]\u001b[A\n",
      " 88%|████████▊ | 213/243 [03:02<00:25,  1.20it/s]\u001b[A"
     ]
    },
    {
     "name": "stdout",
     "output_type": "stream",
     "text": [
      "This stock maybe a good choice 000488\n"
     ]
    },
    {
     "name": "stderr",
     "output_type": "stream",
     "text": [
      "\n",
      " 88%|████████▊ | 214/243 [03:03<00:24,  1.18it/s]\u001b[A\n",
      " 88%|████████▊ | 215/243 [03:04<00:23,  1.18it/s]\u001b[A"
     ]
    },
    {
     "name": "stdout",
     "output_type": "stream",
     "text": [
      "This stock maybe a good choice 002109\n"
     ]
    },
    {
     "name": "stderr",
     "output_type": "stream",
     "text": [
      "\n",
      " 89%|████████▉ | 216/243 [03:05<00:23,  1.16it/s]\u001b[A\n",
      " 89%|████████▉ | 217/243 [03:06<00:22,  1.17it/s]\u001b[A"
     ]
    },
    {
     "name": "stdout",
     "output_type": "stream",
     "text": [
      "This stock maybe a good choice 603518\n"
     ]
    },
    {
     "name": "stderr",
     "output_type": "stream",
     "text": [
      "\n",
      " 90%|████████▉ | 218/243 [03:06<00:21,  1.18it/s]\u001b[A"
     ]
    },
    {
     "name": "stdout",
     "output_type": "stream",
     "text": [
      "This stock maybe a good choice 600076\n"
     ]
    },
    {
     "name": "stderr",
     "output_type": "stream",
     "text": [
      "\n",
      " 90%|█████████ | 219/243 [03:07<00:20,  1.19it/s]\u001b[A\n",
      " 91%|█████████ | 220/243 [03:08<00:19,  1.20it/s]\u001b[A\n",
      " 91%|█████████ | 221/243 [03:09<00:18,  1.19it/s]\u001b[A"
     ]
    },
    {
     "name": "stdout",
     "output_type": "stream",
     "text": [
      "This stock maybe a good choice 600077\n"
     ]
    },
    {
     "name": "stderr",
     "output_type": "stream",
     "text": [
      "\n",
      " 91%|█████████▏| 222/243 [03:10<00:17,  1.20it/s]\u001b[A\n",
      " 92%|█████████▏| 223/243 [03:11<00:16,  1.21it/s]\u001b[A\n",
      " 92%|█████████▏| 224/243 [03:11<00:15,  1.20it/s]\u001b[A\n",
      " 93%|█████████▎| 225/243 [03:12<00:14,  1.28it/s]\u001b[A\n",
      " 93%|█████████▎| 226/243 [03:13<00:13,  1.26it/s]\u001b[A\n",
      " 93%|█████████▎| 227/243 [03:14<00:12,  1.25it/s]\u001b[A"
     ]
    },
    {
     "name": "stdout",
     "output_type": "stream",
     "text": [
      "This stock maybe a good choice 002538\n"
     ]
    },
    {
     "name": "stderr",
     "output_type": "stream",
     "text": [
      "\n",
      " 94%|█████████▍| 228/243 [03:15<00:12,  1.23it/s]\u001b[A\n",
      " 94%|█████████▍| 229/243 [03:15<00:11,  1.22it/s]\u001b[A\n",
      " 95%|█████████▍| 230/243 [03:16<00:10,  1.22it/s]\u001b[A\n",
      " 95%|█████████▌| 231/243 [03:17<00:09,  1.23it/s]\u001b[A\n",
      " 95%|█████████▌| 232/243 [03:18<00:09,  1.22it/s]\u001b[A"
     ]
    },
    {
     "name": "stdout",
     "output_type": "stream",
     "text": [
      "This stock maybe a good choice 600051\n"
     ]
    },
    {
     "name": "stderr",
     "output_type": "stream",
     "text": [
      "\n",
      " 96%|█████████▌| 233/243 [03:19<00:08,  1.17it/s]\u001b[A\n",
      " 96%|█████████▋| 234/243 [03:20<00:07,  1.18it/s]\u001b[A\n",
      " 97%|█████████▋| 235/243 [03:20<00:06,  1.17it/s]\u001b[A\n",
      " 97%|█████████▋| 236/243 [03:21<00:05,  1.18it/s]\u001b[A\n",
      " 98%|█████████▊| 237/243 [03:22<00:05,  1.19it/s]\u001b[A\n",
      " 98%|█████████▊| 238/243 [03:23<00:04,  1.18it/s]\u001b[A\n",
      " 98%|█████████▊| 239/243 [03:24<00:03,  1.18it/s]\u001b[A"
     ]
    },
    {
     "name": "stdout",
     "output_type": "stream",
     "text": [
      "This stock maybe a good choice 601015\n"
     ]
    },
    {
     "name": "stderr",
     "output_type": "stream",
     "text": [
      "\n",
      " 99%|█████████▉| 240/243 [03:25<00:02,  1.17it/s]\u001b[A\n",
      " 99%|█████████▉| 241/243 [03:26<00:01,  1.18it/s]\u001b[A\n",
      "100%|█████████▉| 242/243 [03:26<00:00,  1.19it/s]\u001b[A\n",
      "100%|██████████| 243/243 [03:27<00:00,  1.17it/s]\u001b[A"
     ]
    },
    {
     "name": "stdout",
     "output_type": "stream",
     "text": [
      "['300108', '000616', '000631', '601339', '600697', '000537', '000413', '601518', '000501', '002839', '600475', '600016', '600743', '600548', '600138', '600676', '600308', '601101', '002067', '002589', '600623', '600090', '601188', '600350', '600611', '600655', '600755', '600859', '002024', '600683', '600982', '000732', '600133', '002394', '002133', '600230', '000059', '601222', '600012', '600551', '002277', '002029', '000822', '600028', '002283', '601801', '600565', '600483', '600603', '002068', '600125', '600376', '600757', '002775', '600978', '002435', '600208', '600057', '601717', '600064', '000926', '600017', '600657', '601598', '000828', '300089', '600716', '000488', '002109', '603518', '600076', '600077', '002538', '600051', '601015']\n"
     ]
    },
    {
     "name": "stderr",
     "output_type": "stream",
     "text": [
      "\n"
     ]
    }
   ],
   "source": [
    "# Comparing MA-5 & MA-21\n",
    "# MA-5 ts.get_hist_data(zxg1[i])['close'].rolling(5).mean().shift(-4) \n",
    "# MA-21 ts.get_hist_data(zxg1[i])['close'].rolling(21).mean().shift(-20) \n",
    "\n",
    "# If MA-5 > MA-21, it is bullrish\n",
    "# If MA-5 < MA-21, it is bearish\n",
    "\n",
    "MA_5L_21 = []\n",
    "def MA(name, date):\n",
    "    return ts.get_hist_data(name)['close'].rolling(date).mean().shift(-date + 1)\n",
    "\n",
    "from tqdm import tqdm\n",
    "\n",
    "stock_wanted = []\n",
    "for i in tqdm(range(0, len(zxg1))):\n",
    "    MA5_21 = (MA(zxg1[i],5) - MA(zxg1[i], 21)).to_frame()[0:5] \n",
    "    MA21_5 = (MA(zxg1[i],21) - MA(zxg1[i], 5)).to_frame()[0:5] \n",
    "    # if (dataframe['close'][3] == True) and (dataframe['close'][4] == True):\n",
    "    if (MA5_21['close'][0] > MA5_21['close'][1]) and (MA5_21['close'][1] > MA5_21['close'][2]) and (MA5_21['close'][2] > MA5_21['close'][3]):\n",
    "        print(\"This stock maybe a good choice\", zxg1[i])\n",
    "        MA_5L_21.append(zxg1[i])\n",
    "    if (MA21_5['close'][0] > MA21_5['close'][1]) and (MA21_5['close'][1] > MA21_5['close'][2]) and (MA21_5['close'][2] > MA21_5['close'][3]):\n",
    "        print(\"This stock maybe a good choice\", zxg1[i])\n",
    "        MA_5L_21.append(zxg1[i])\n",
    "print(MA_5L_21)"
   ]
  },
  {
   "cell_type": "code",
   "execution_count": 12,
   "metadata": {},
   "outputs": [
    {
     "name": "stdout",
     "output_type": "stream",
     "text": [
      "[Getting data:]#"
     ]
    },
    {
     "ename": "HTTPError",
     "evalue": "HTTP Error 456: ",
     "output_type": "error",
     "traceback": [
      "\u001b[0;31m---------------------------------------------------------------------------\u001b[0m",
      "\u001b[0;31mHTTPError\u001b[0m                                 Traceback (most recent call last)",
      "\u001b[0;32m<ipython-input-12-86a398201b57>\u001b[0m in \u001b[0;36m<module>\u001b[0;34m\u001b[0m\n\u001b[1;32m     44\u001b[0m \u001b[0;34m\u001b[0m\u001b[0m\n\u001b[1;32m     45\u001b[0m \u001b[0;32mif\u001b[0m \u001b[0m__name__\u001b[0m \u001b[0;34m==\u001b[0m \u001b[0;34m'__main__'\u001b[0m\u001b[0;34m:\u001b[0m\u001b[0;34m\u001b[0m\u001b[0;34m\u001b[0m\u001b[0m\n\u001b[0;32m---> 46\u001b[0;31m     \u001b[0mdownloaddata\u001b[0m\u001b[0;34m(\u001b[0m\u001b[0;34m)\u001b[0m\u001b[0;34m\u001b[0m\u001b[0;34m\u001b[0m\u001b[0m\n\u001b[0m\u001b[1;32m     47\u001b[0m     \u001b[0mstock_picking\u001b[0m\u001b[0;34m(\u001b[0m\u001b[0;34m)\u001b[0m\u001b[0;34m\u001b[0m\u001b[0;34m\u001b[0m\u001b[0m\n",
      "\u001b[0;32m<ipython-input-12-86a398201b57>\u001b[0m in \u001b[0;36mdownloaddata\u001b[0;34m()\u001b[0m\n\u001b[1;32m     13\u001b[0m \u001b[0;34m\u001b[0m\u001b[0m\n\u001b[1;32m     14\u001b[0m     \u001b[0;31m#建立df1用来存储技术面信息\u001b[0m\u001b[0;34m\u001b[0m\u001b[0;34m\u001b[0m\u001b[0;34m\u001b[0m\u001b[0m\n\u001b[0;32m---> 15\u001b[0;31m     \u001b[0mdf1\u001b[0m \u001b[0;34m=\u001b[0m \u001b[0mts\u001b[0m\u001b[0;34m.\u001b[0m\u001b[0mget_today_all\u001b[0m\u001b[0;34m(\u001b[0m\u001b[0;34m)\u001b[0m\u001b[0;34m\u001b[0m\u001b[0;34m\u001b[0m\u001b[0m\n\u001b[0m\u001b[1;32m     16\u001b[0m     \u001b[0;31m#将code、name、changepercent(涨跌幅)、turnoverratio（换手率)保存到df1中\u001b[0m\u001b[0;34m\u001b[0m\u001b[0;34m\u001b[0m\u001b[0;34m\u001b[0m\u001b[0m\n\u001b[1;32m     17\u001b[0m     \u001b[0mdf1\u001b[0m \u001b[0;34m=\u001b[0m \u001b[0mdf1\u001b[0m\u001b[0;34m.\u001b[0m\u001b[0mloc\u001b[0m\u001b[0;34m[\u001b[0m\u001b[0;34m:\u001b[0m\u001b[0;34m,\u001b[0m\u001b[0;34m[\u001b[0m\u001b[0;34m'code'\u001b[0m\u001b[0;34m,\u001b[0m\u001b[0;34m'name'\u001b[0m\u001b[0;34m,\u001b[0m \u001b[0;34m'changepercent'\u001b[0m\u001b[0;34m,\u001b[0m \u001b[0;34m'turnoverratio'\u001b[0m\u001b[0;34m]\u001b[0m\u001b[0;34m]\u001b[0m\u001b[0;34m\u001b[0m\u001b[0;34m\u001b[0m\u001b[0m\n",
      "\u001b[0;32m/usr/local/lib/python3.7/site-packages/tushare/stock/trading.py\u001b[0m in \u001b[0;36mget_today_all\u001b[0;34m()\u001b[0m\n\u001b[1;32m    315\u001b[0m     \"\"\"\n\u001b[1;32m    316\u001b[0m     \u001b[0mct\u001b[0m\u001b[0;34m.\u001b[0m\u001b[0m_write_head\u001b[0m\u001b[0;34m(\u001b[0m\u001b[0;34m)\u001b[0m\u001b[0;34m\u001b[0m\u001b[0;34m\u001b[0m\u001b[0m\n\u001b[0;32m--> 317\u001b[0;31m     \u001b[0mdf\u001b[0m \u001b[0;34m=\u001b[0m \u001b[0m_parsing_dayprice_json\u001b[0m\u001b[0;34m(\u001b[0m\u001b[0;34m'hs_a'\u001b[0m\u001b[0;34m,\u001b[0m \u001b[0;36m1\u001b[0m\u001b[0;34m)\u001b[0m\u001b[0;34m\u001b[0m\u001b[0;34m\u001b[0m\u001b[0m\n\u001b[0m\u001b[1;32m    318\u001b[0m     \u001b[0;32mif\u001b[0m \u001b[0mdf\u001b[0m \u001b[0;32mis\u001b[0m \u001b[0;32mnot\u001b[0m \u001b[0;32mNone\u001b[0m\u001b[0;34m:\u001b[0m\u001b[0;34m\u001b[0m\u001b[0;34m\u001b[0m\u001b[0m\n\u001b[1;32m    319\u001b[0m         \u001b[0;32mfor\u001b[0m \u001b[0mi\u001b[0m \u001b[0;32min\u001b[0m \u001b[0mrange\u001b[0m\u001b[0;34m(\u001b[0m\u001b[0;36m2\u001b[0m\u001b[0;34m,\u001b[0m \u001b[0mct\u001b[0m\u001b[0;34m.\u001b[0m\u001b[0mPAGE_NUM\u001b[0m\u001b[0;34m[\u001b[0m\u001b[0;36m1\u001b[0m\u001b[0;34m]\u001b[0m\u001b[0;34m)\u001b[0m\u001b[0;34m:\u001b[0m\u001b[0;34m\u001b[0m\u001b[0;34m\u001b[0m\u001b[0m\n",
      "\u001b[0;32m/usr/local/lib/python3.7/site-packages/tushare/stock/trading.py\u001b[0m in \u001b[0;36m_parsing_dayprice_json\u001b[0;34m(types, page)\u001b[0m\n\u001b[1;32m    117\u001b[0m     request = Request(ct.SINA_DAY_PRICE_URL%(ct.P_TYPE['http'], ct.DOMAINS['vsf'],\n\u001b[1;32m    118\u001b[0m                                  ct.PAGES['jv'], types, page))\n\u001b[0;32m--> 119\u001b[0;31m     \u001b[0mtext\u001b[0m \u001b[0;34m=\u001b[0m \u001b[0murlopen\u001b[0m\u001b[0;34m(\u001b[0m\u001b[0mrequest\u001b[0m\u001b[0;34m,\u001b[0m \u001b[0mtimeout\u001b[0m\u001b[0;34m=\u001b[0m\u001b[0;36m10\u001b[0m\u001b[0;34m)\u001b[0m\u001b[0;34m.\u001b[0m\u001b[0mread\u001b[0m\u001b[0;34m(\u001b[0m\u001b[0;34m)\u001b[0m\u001b[0;34m\u001b[0m\u001b[0;34m\u001b[0m\u001b[0m\n\u001b[0m\u001b[1;32m    120\u001b[0m     \u001b[0;32mif\u001b[0m \u001b[0mtext\u001b[0m \u001b[0;34m==\u001b[0m \u001b[0;34m'null'\u001b[0m\u001b[0;34m:\u001b[0m\u001b[0;34m\u001b[0m\u001b[0;34m\u001b[0m\u001b[0m\n\u001b[1;32m    121\u001b[0m         \u001b[0;32mreturn\u001b[0m \u001b[0;32mNone\u001b[0m\u001b[0;34m\u001b[0m\u001b[0;34m\u001b[0m\u001b[0m\n",
      "\u001b[0;32m/usr/local/Cellar/python/3.7.6_1/Frameworks/Python.framework/Versions/3.7/lib/python3.7/urllib/request.py\u001b[0m in \u001b[0;36murlopen\u001b[0;34m(url, data, timeout, cafile, capath, cadefault, context)\u001b[0m\n\u001b[1;32m    220\u001b[0m     \u001b[0;32melse\u001b[0m\u001b[0;34m:\u001b[0m\u001b[0;34m\u001b[0m\u001b[0;34m\u001b[0m\u001b[0m\n\u001b[1;32m    221\u001b[0m         \u001b[0mopener\u001b[0m \u001b[0;34m=\u001b[0m \u001b[0m_opener\u001b[0m\u001b[0;34m\u001b[0m\u001b[0;34m\u001b[0m\u001b[0m\n\u001b[0;32m--> 222\u001b[0;31m     \u001b[0;32mreturn\u001b[0m \u001b[0mopener\u001b[0m\u001b[0;34m.\u001b[0m\u001b[0mopen\u001b[0m\u001b[0;34m(\u001b[0m\u001b[0murl\u001b[0m\u001b[0;34m,\u001b[0m \u001b[0mdata\u001b[0m\u001b[0;34m,\u001b[0m \u001b[0mtimeout\u001b[0m\u001b[0;34m)\u001b[0m\u001b[0;34m\u001b[0m\u001b[0;34m\u001b[0m\u001b[0m\n\u001b[0m\u001b[1;32m    223\u001b[0m \u001b[0;34m\u001b[0m\u001b[0m\n\u001b[1;32m    224\u001b[0m \u001b[0;32mdef\u001b[0m \u001b[0minstall_opener\u001b[0m\u001b[0;34m(\u001b[0m\u001b[0mopener\u001b[0m\u001b[0;34m)\u001b[0m\u001b[0;34m:\u001b[0m\u001b[0;34m\u001b[0m\u001b[0;34m\u001b[0m\u001b[0m\n",
      "\u001b[0;32m/usr/local/Cellar/python/3.7.6_1/Frameworks/Python.framework/Versions/3.7/lib/python3.7/urllib/request.py\u001b[0m in \u001b[0;36mopen\u001b[0;34m(self, fullurl, data, timeout)\u001b[0m\n\u001b[1;32m    529\u001b[0m         \u001b[0;32mfor\u001b[0m \u001b[0mprocessor\u001b[0m \u001b[0;32min\u001b[0m \u001b[0mself\u001b[0m\u001b[0;34m.\u001b[0m\u001b[0mprocess_response\u001b[0m\u001b[0;34m.\u001b[0m\u001b[0mget\u001b[0m\u001b[0;34m(\u001b[0m\u001b[0mprotocol\u001b[0m\u001b[0;34m,\u001b[0m \u001b[0;34m[\u001b[0m\u001b[0;34m]\u001b[0m\u001b[0;34m)\u001b[0m\u001b[0;34m:\u001b[0m\u001b[0;34m\u001b[0m\u001b[0;34m\u001b[0m\u001b[0m\n\u001b[1;32m    530\u001b[0m             \u001b[0mmeth\u001b[0m \u001b[0;34m=\u001b[0m \u001b[0mgetattr\u001b[0m\u001b[0;34m(\u001b[0m\u001b[0mprocessor\u001b[0m\u001b[0;34m,\u001b[0m \u001b[0mmeth_name\u001b[0m\u001b[0;34m)\u001b[0m\u001b[0;34m\u001b[0m\u001b[0;34m\u001b[0m\u001b[0m\n\u001b[0;32m--> 531\u001b[0;31m             \u001b[0mresponse\u001b[0m \u001b[0;34m=\u001b[0m \u001b[0mmeth\u001b[0m\u001b[0;34m(\u001b[0m\u001b[0mreq\u001b[0m\u001b[0;34m,\u001b[0m \u001b[0mresponse\u001b[0m\u001b[0;34m)\u001b[0m\u001b[0;34m\u001b[0m\u001b[0;34m\u001b[0m\u001b[0m\n\u001b[0m\u001b[1;32m    532\u001b[0m \u001b[0;34m\u001b[0m\u001b[0m\n\u001b[1;32m    533\u001b[0m         \u001b[0;32mreturn\u001b[0m \u001b[0mresponse\u001b[0m\u001b[0;34m\u001b[0m\u001b[0;34m\u001b[0m\u001b[0m\n",
      "\u001b[0;32m/usr/local/Cellar/python/3.7.6_1/Frameworks/Python.framework/Versions/3.7/lib/python3.7/urllib/request.py\u001b[0m in \u001b[0;36mhttp_response\u001b[0;34m(self, request, response)\u001b[0m\n\u001b[1;32m    639\u001b[0m         \u001b[0;32mif\u001b[0m \u001b[0;32mnot\u001b[0m \u001b[0;34m(\u001b[0m\u001b[0;36m200\u001b[0m \u001b[0;34m<=\u001b[0m \u001b[0mcode\u001b[0m \u001b[0;34m<\u001b[0m \u001b[0;36m300\u001b[0m\u001b[0;34m)\u001b[0m\u001b[0;34m:\u001b[0m\u001b[0;34m\u001b[0m\u001b[0;34m\u001b[0m\u001b[0m\n\u001b[1;32m    640\u001b[0m             response = self.parent.error(\n\u001b[0;32m--> 641\u001b[0;31m                 'http', request, response, code, msg, hdrs)\n\u001b[0m\u001b[1;32m    642\u001b[0m \u001b[0;34m\u001b[0m\u001b[0m\n\u001b[1;32m    643\u001b[0m         \u001b[0;32mreturn\u001b[0m \u001b[0mresponse\u001b[0m\u001b[0;34m\u001b[0m\u001b[0;34m\u001b[0m\u001b[0m\n",
      "\u001b[0;32m/usr/local/Cellar/python/3.7.6_1/Frameworks/Python.framework/Versions/3.7/lib/python3.7/urllib/request.py\u001b[0m in \u001b[0;36merror\u001b[0;34m(self, proto, *args)\u001b[0m\n\u001b[1;32m    567\u001b[0m         \u001b[0;32mif\u001b[0m \u001b[0mhttp_err\u001b[0m\u001b[0;34m:\u001b[0m\u001b[0;34m\u001b[0m\u001b[0;34m\u001b[0m\u001b[0m\n\u001b[1;32m    568\u001b[0m             \u001b[0margs\u001b[0m \u001b[0;34m=\u001b[0m \u001b[0;34m(\u001b[0m\u001b[0mdict\u001b[0m\u001b[0;34m,\u001b[0m \u001b[0;34m'default'\u001b[0m\u001b[0;34m,\u001b[0m \u001b[0;34m'http_error_default'\u001b[0m\u001b[0;34m)\u001b[0m \u001b[0;34m+\u001b[0m \u001b[0morig_args\u001b[0m\u001b[0;34m\u001b[0m\u001b[0;34m\u001b[0m\u001b[0m\n\u001b[0;32m--> 569\u001b[0;31m             \u001b[0;32mreturn\u001b[0m \u001b[0mself\u001b[0m\u001b[0;34m.\u001b[0m\u001b[0m_call_chain\u001b[0m\u001b[0;34m(\u001b[0m\u001b[0;34m*\u001b[0m\u001b[0margs\u001b[0m\u001b[0;34m)\u001b[0m\u001b[0;34m\u001b[0m\u001b[0;34m\u001b[0m\u001b[0m\n\u001b[0m\u001b[1;32m    570\u001b[0m \u001b[0;34m\u001b[0m\u001b[0m\n\u001b[1;32m    571\u001b[0m \u001b[0;31m# XXX probably also want an abstract factory that knows when it makes\u001b[0m\u001b[0;34m\u001b[0m\u001b[0;34m\u001b[0m\u001b[0;34m\u001b[0m\u001b[0m\n",
      "\u001b[0;32m/usr/local/Cellar/python/3.7.6_1/Frameworks/Python.framework/Versions/3.7/lib/python3.7/urllib/request.py\u001b[0m in \u001b[0;36m_call_chain\u001b[0;34m(self, chain, kind, meth_name, *args)\u001b[0m\n\u001b[1;32m    501\u001b[0m         \u001b[0;32mfor\u001b[0m \u001b[0mhandler\u001b[0m \u001b[0;32min\u001b[0m \u001b[0mhandlers\u001b[0m\u001b[0;34m:\u001b[0m\u001b[0;34m\u001b[0m\u001b[0;34m\u001b[0m\u001b[0m\n\u001b[1;32m    502\u001b[0m             \u001b[0mfunc\u001b[0m \u001b[0;34m=\u001b[0m \u001b[0mgetattr\u001b[0m\u001b[0;34m(\u001b[0m\u001b[0mhandler\u001b[0m\u001b[0;34m,\u001b[0m \u001b[0mmeth_name\u001b[0m\u001b[0;34m)\u001b[0m\u001b[0;34m\u001b[0m\u001b[0;34m\u001b[0m\u001b[0m\n\u001b[0;32m--> 503\u001b[0;31m             \u001b[0mresult\u001b[0m \u001b[0;34m=\u001b[0m \u001b[0mfunc\u001b[0m\u001b[0;34m(\u001b[0m\u001b[0;34m*\u001b[0m\u001b[0margs\u001b[0m\u001b[0;34m)\u001b[0m\u001b[0;34m\u001b[0m\u001b[0;34m\u001b[0m\u001b[0m\n\u001b[0m\u001b[1;32m    504\u001b[0m             \u001b[0;32mif\u001b[0m \u001b[0mresult\u001b[0m \u001b[0;32mis\u001b[0m \u001b[0;32mnot\u001b[0m \u001b[0;32mNone\u001b[0m\u001b[0;34m:\u001b[0m\u001b[0;34m\u001b[0m\u001b[0;34m\u001b[0m\u001b[0m\n\u001b[1;32m    505\u001b[0m                 \u001b[0;32mreturn\u001b[0m \u001b[0mresult\u001b[0m\u001b[0;34m\u001b[0m\u001b[0;34m\u001b[0m\u001b[0m\n",
      "\u001b[0;32m/usr/local/Cellar/python/3.7.6_1/Frameworks/Python.framework/Versions/3.7/lib/python3.7/urllib/request.py\u001b[0m in \u001b[0;36mhttp_error_default\u001b[0;34m(self, req, fp, code, msg, hdrs)\u001b[0m\n\u001b[1;32m    647\u001b[0m \u001b[0;32mclass\u001b[0m \u001b[0mHTTPDefaultErrorHandler\u001b[0m\u001b[0;34m(\u001b[0m\u001b[0mBaseHandler\u001b[0m\u001b[0;34m)\u001b[0m\u001b[0;34m:\u001b[0m\u001b[0;34m\u001b[0m\u001b[0;34m\u001b[0m\u001b[0m\n\u001b[1;32m    648\u001b[0m     \u001b[0;32mdef\u001b[0m \u001b[0mhttp_error_default\u001b[0m\u001b[0;34m(\u001b[0m\u001b[0mself\u001b[0m\u001b[0;34m,\u001b[0m \u001b[0mreq\u001b[0m\u001b[0;34m,\u001b[0m \u001b[0mfp\u001b[0m\u001b[0;34m,\u001b[0m \u001b[0mcode\u001b[0m\u001b[0;34m,\u001b[0m \u001b[0mmsg\u001b[0m\u001b[0;34m,\u001b[0m \u001b[0mhdrs\u001b[0m\u001b[0;34m)\u001b[0m\u001b[0;34m:\u001b[0m\u001b[0;34m\u001b[0m\u001b[0;34m\u001b[0m\u001b[0m\n\u001b[0;32m--> 649\u001b[0;31m         \u001b[0;32mraise\u001b[0m \u001b[0mHTTPError\u001b[0m\u001b[0;34m(\u001b[0m\u001b[0mreq\u001b[0m\u001b[0;34m.\u001b[0m\u001b[0mfull_url\u001b[0m\u001b[0;34m,\u001b[0m \u001b[0mcode\u001b[0m\u001b[0;34m,\u001b[0m \u001b[0mmsg\u001b[0m\u001b[0;34m,\u001b[0m \u001b[0mhdrs\u001b[0m\u001b[0;34m,\u001b[0m \u001b[0mfp\u001b[0m\u001b[0;34m)\u001b[0m\u001b[0;34m\u001b[0m\u001b[0;34m\u001b[0m\u001b[0m\n\u001b[0m\u001b[1;32m    650\u001b[0m \u001b[0;34m\u001b[0m\u001b[0m\n\u001b[1;32m    651\u001b[0m \u001b[0;32mclass\u001b[0m \u001b[0mHTTPRedirectHandler\u001b[0m\u001b[0;34m(\u001b[0m\u001b[0mBaseHandler\u001b[0m\u001b[0;34m)\u001b[0m\u001b[0;34m:\u001b[0m\u001b[0;34m\u001b[0m\u001b[0;34m\u001b[0m\u001b[0m\n",
      "\u001b[0;31mHTTPError\u001b[0m: HTTP Error 456: "
     ]
    }
   ],
   "source": [
    "import tushare as ts\n",
    "import pandas as pd\n",
    "import datetime as dt\n",
    "\n",
    "def downloaddata():\n",
    "    #建立df0用来存储基本面信息df0 = pd.DataFrame()\n",
    "    df0 = ts.get_stock_basics()\n",
    "    #将code、name、pb、esp（每股收益）、timeToMarket（上市日期）保存到df0中\n",
    "    df0 = df0.loc[:,['name', 'pb', 'esp', 'timeToMarket']]\n",
    "    #将df0按code进行排序\n",
    "    df0 = df0.sort_index(axis=0, ascending=True)\n",
    "    df0.to_csv('stock_basics.csv')\n",
    "\n",
    "    #建立df1用来存储技术面信息\n",
    "    df1 = ts.get_today_all()\n",
    "    #将code、name、changepercent(涨跌幅)、turnoverratio（换手率)保存到df1中\n",
    "    df1 = df1.loc[:,['code','name', 'changepercent', 'turnoverratio']]\n",
    "    df1 = df1.set_index('code')\n",
    "    #将df1按code进行排序\n",
    "    df1 = df1.sort_index(axis=0, ascending=True)\n",
    "    df1.to_csv('today_all.csv')\n",
    "\n",
    "def stock_picking():\n",
    "    df0 = pd.read_csv('stock_basics.csv')\n",
    "    df1 = pd.read_csv('today_all.csv')\n",
    "\n",
    "    #将df0和df1横向拼接起来，赋给df\n",
    "    df = pd.merge(df0,df1, how='inner')\n",
    "\n",
    "    # 将每股收益（esp）>1，0<PB<1\n",
    "    df = df[(df.esp > 1) & (0 < df.pb) & (df.pb < 1)]\n",
    "    #将 涨跌幅（changepercent)<4% 和 0.8%<换手率(turnoverratio)<3% 的保留下来\n",
    "    df = df[(df.changepercent<4) & (0.8<df.turnoverratio)&(df.turnoverratio<3)]\n",
    "    if df.empty:\n",
    "        print('无符合条件股票！')\n",
    "    else:\n",
    "        df = df.sort_values(by='pb', ascending=True)\n",
    "        df = df.rename(columns={'code':'股票代码', 'name':'股票简称', 'pb':'平均净资产', 'esp':'每股收益', \\\n",
    "                  'timeToMarket':'上市日期', 'changepercent':'涨跌幅', 'turnoverratio':'换手率'})\n",
    "        df = df.set_index('股票代码')\n",
    "        #df.to_csv('stock_today.csv')\n",
    "        date = dt.date.today()\n",
    "        df.to_excel('stock_today.xlsx'.format(date))\n",
    "\n",
    "if __name__ == '__main__':\n",
    "    downloaddata()\n",
    "    stock_picking()"
   ]
  },
  {
   "cell_type": "code",
   "execution_count": null,
   "metadata": {},
   "outputs": [],
   "source": []
  }
 ],
 "metadata": {
  "kernelspec": {
   "display_name": "Python 3",
   "language": "python",
   "name": "python3"
  },
  "language_info": {
   "codemirror_mode": {
    "name": "ipython",
    "version": 3
   },
   "file_extension": ".py",
   "mimetype": "text/x-python",
   "name": "python",
   "nbconvert_exporter": "python",
   "pygments_lexer": "ipython3",
   "version": "3.7.6"
  }
 },
 "nbformat": 4,
 "nbformat_minor": 2
}
