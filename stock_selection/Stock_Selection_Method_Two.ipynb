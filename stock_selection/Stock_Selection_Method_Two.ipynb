{
 "cells": [
  {
   "cell_type": "code",
   "execution_count": null,
   "metadata": {},
   "outputs": [],
   "source": [
    "import tushare as ts\n",
    "import pandas as pd\n",
    "import datetime as dt\n",
    "\n",
    "def downloaddata():\n",
    "    #建立df0用来存储基本面信息df0 = pd.DataFrame()\n",
    "    df0 = ts.get_stock_basics()\n",
    "    #将code、name、pb、esp（每股收益）、timeToMarket（上市日期）保存到df0中\n",
    "    df0 = df0.loc[:,['name', 'pb', 'esp', 'timeToMarket']]\n",
    "    #将df0按code进行排序\n",
    "    df0 = df0.sort_index(axis=0, ascending=True)\n",
    "    df0.to_csv('stock_basics.csv')\n",
    "\n",
    "    #建立df1用来存储技术面信息\n",
    "    df1 = ts.get_today_all()\n",
    "    #将code、name、changepercent(涨跌幅)、turnoverratio（换手率)保存到df1中\n",
    "    df1 = df1.loc[:,['code','name', 'changepercent', 'turnoverratio']]\n",
    "    df1 = df1.set_index('code')\n",
    "    #将df1按code进行排序\n",
    "    df1 = df1.sort_index(axis=0, ascending=True)\n",
    "    df1.to_csv('today_all.csv')\n",
    "\n",
    "def stock_picking():\n",
    "    df0 = pd.read_csv('stock_basics.csv')\n",
    "    df1 = pd.read_csv('today_all.csv')\n",
    "\n",
    "    #将df0和df1横向拼接起来，赋给df\n",
    "    df = pd.merge(df0,df1, how='inner')\n",
    "\n",
    "    # 将每股收益（esp）>1，0<PB<1\n",
    "    df = df[(df.esp > 1) & (0 < df.pb) & (df.pb < 1)]\n",
    "    #将 涨跌幅（changepercent)<4% 和 0.8%<换手率(turnoverratio)<3% 的保留下来\n",
    "    df = df[(df.changepercent<4) & (0.8<df.turnoverratio)&(df.turnoverratio<3)]\n",
    "    if df.empty:\n",
    "        print('无符合条件股票！')\n",
    "    else:\n",
    "        df = df.sort_values(by='pb', ascending=True)\n",
    "        df = df.rename(columns={'code':'股票代码', 'name':'股票简称', 'pb':'平均净资产', 'esp':'每股收益', \\\n",
    "                  'timeToMarket':'上市日期', 'changepercent':'涨跌幅', 'turnoverratio':'换手率'})\n",
    "        df = df.set_index('股票代码')\n",
    "        df.to_csv('stock_today.csv')\n",
    "        date = dt.date.today()\n",
    "        #df.to_excel('stock_today.xlsx'.format(date))\n",
    "\n",
    "if __name__ == '__main__':\n",
    "    downloaddata()\n",
    "    stock_picking()"
   ]
  }
 ],
 "metadata": {
  "kernelspec": {
   "display_name": "Python 3",
   "language": "python",
   "name": "python3"
  },
  "language_info": {
   "codemirror_mode": {
    "name": "ipython",
    "version": 3
   },
   "file_extension": ".py",
   "mimetype": "text/x-python",
   "name": "python",
   "nbconvert_exporter": "python",
   "pygments_lexer": "ipython3",
   "version": "3.7.6"
  }
 },
 "nbformat": 4,
 "nbformat_minor": 4
}
